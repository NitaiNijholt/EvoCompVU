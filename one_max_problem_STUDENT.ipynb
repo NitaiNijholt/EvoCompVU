{
 "cells": [
  {
   "cell_type": "markdown",
   "id": "3025ffb7",
   "metadata": {},
   "source": [
    "# Evolutionary Computing Practical Session 1 - SGA Solution"
   ]
  },
  {
   "cell_type": "markdown",
   "id": "7226d85c",
   "metadata": {},
   "source": [
    "### Author: Buelent Uendes\n",
    "\n",
    "The goal of this notebook is to make yourself a bit more familiar with how to solve specific 'simple' problems using evolutionary algorithms. Do not panic if you do not fully understand each of the algorithms, as some of them will be dealt with later during the course. This notebook should just give you more insight into how on can code up simple evolutionary algorithms to solve certain problems. Getting familiar with the core concepts will also help you with the assignments in the course.\n",
    "\n",
    "This notebook will implement some parts of the lectures slides that are based on Chapter 1 - 4. "
   ]
  },
  {
   "cell_type": "markdown",
   "id": "2ac6889e",
   "metadata": {},
   "source": [
    "As always, we need to first import several packages:"
   ]
  },
  {
   "cell_type": "code",
   "execution_count": 777,
   "id": "1f80d72c",
   "metadata": {},
   "outputs": [],
   "source": [
    "import numpy as np\n",
    "from numpy.random import randint\n",
    "from numpy.random import rand\n",
    "import random\n",
    "import matplotlib.pyplot as plt\n",
    "from typing import List, Tuple\n",
    "\n",
    "# np.random.seed(5)"
   ]
  },
  {
   "cell_type": "markdown",
   "id": "a929e232",
   "metadata": {},
   "source": [
    "**Instructions:**\n",
    "\n",
    "In the notebook, you will see a couple of ToDos with some instructions. Try your best to work through them and to complete the notebook. In case you run into problems, do not hesitate to ask us or you can check out the solution notebook which is also uploaded on Canvas."
   ]
  },
  {
   "cell_type": "markdown",
   "id": "b4ce9231",
   "metadata": {},
   "source": [
    "## Simple genetic algorithm (SGA)"
   ]
  },
  {
   "cell_type": "markdown",
   "id": "1848bec3",
   "metadata": {},
   "source": [
    "The simple genetic algorithm (SGA) is one of the most important and well-known evolutionary algorithm and is often also used for benchmarking. For this reason, it is a good idea to get familiar with this popular method. \n"
   ]
  },
  {
   "cell_type": "markdown",
   "id": "568146de",
   "metadata": {},
   "source": [
    "To recall, here are the main features of the SGA algorithm:\n",
    "    \n",
    "- Representation: binary code.\n",
    "- Crossover with probability $p_c$, and mutation with probability $p_m$.\n",
    "- XCrossover, here we will use 1-point crossover. \n",
    "- Mutation is applied bitwise and independently.\n",
    "- parent selection is proportional to fitness. Selection is implemented via Roulette Wheel algorithm.\n",
    "- Replace the whole population with offspring (hence, survival selection is generational).\n"
   ]
  },
  {
   "cell_type": "markdown",
   "id": "9d66564e",
   "metadata": {},
   "source": [
    "### 1.1 One-max problem "
   ]
  },
  {
   "cell_type": "markdown",
   "id": "639414bf",
   "metadata": {},
   "source": [
    "In this problem, we will apply a SGA to the simple one-max problem. The one-max problem is a binary-string optimization problem in which one wants to maximize the number of ones contained in a string of bits. For instance, if the bitstring is of length 50, then the maximum of the one-max function is attained at a value of 50."
   ]
  },
  {
   "cell_type": "markdown",
   "id": "eea6a96e",
   "metadata": {},
   "source": [
    "An important step is to initialize the population. The following function will generate a population of individual solutions."
   ]
  },
  {
   "cell_type": "code",
   "execution_count": 778,
   "id": "e4811a0a",
   "metadata": {},
   "outputs": [],
   "source": [
    "#Define the population:\n",
    "\n",
    "def init_population(n_population: int, bit_length:int) -> list:\n",
    "    '''This returns a randomly initialized list of individual solutions of size n_population.'''\n",
    "    \n",
    "    '''\n",
    "    ToDo:\n",
    "        \n",
    "    Please write a code that initializes a set of random solution to the problem.\n",
    "    '''\n",
    "        \n",
    "    #WRITE YOUR CODE HERE!\n",
    "    population = []\n",
    "    for i in range(n_population):\n",
    "        population.append(np.array(list(randint(2, size=bit_length))))\n",
    "    return np.array(population)\n",
    "        \n",
    "        \n",
    "     "
   ]
  },
  {
   "cell_type": "code",
   "execution_count": 779,
   "id": "f45577fe",
   "metadata": {},
   "outputs": [
    {
     "data": {
      "text/plain": [
       "array([[1, 0, 0, 1, 1, 0, 1, 0, 0, 1],\n",
       "       [0, 0, 0, 0, 1, 1, 0, 0, 1, 1],\n",
       "       [0, 1, 1, 1, 0, 0, 0, 0, 0, 1],\n",
       "       [0, 1, 0, 1, 0, 1, 1, 0, 1, 0],\n",
       "       [1, 0, 0, 0, 1, 0, 1, 0, 0, 1],\n",
       "       [1, 0, 0, 0, 0, 1, 0, 0, 1, 1],\n",
       "       [1, 1, 0, 0, 0, 1, 0, 1, 0, 0],\n",
       "       [1, 1, 1, 1, 0, 0, 0, 0, 0, 0],\n",
       "       [1, 1, 1, 0, 1, 1, 0, 0, 0, 1],\n",
       "       [0, 1, 0, 1, 1, 0, 0, 0, 1, 1]])"
      ]
     },
     "execution_count": 779,
     "metadata": {},
     "output_type": "execute_result"
    }
   ],
   "source": [
    "population_test = init_population(10, 10)\n",
    "population_test"
   ]
  },
  {
   "cell_type": "markdown",
   "id": "eef1efb8",
   "metadata": {},
   "source": [
    "In a next step, we will define the fitness function which is a crucial element of any evolutionary algorithm. It represents the environment and shapes the evolutionary process."
   ]
  },
  {
   "cell_type": "code",
   "execution_count": 780,
   "id": "e65a8336",
   "metadata": {},
   "outputs": [],
   "source": [
    "#Define the fitness function. The fitness function represents the environment.\n",
    "def one_max(x:list) -> float:\n",
    "    '''Takes a list of length bit_length and returns the sum of its elements.'''\n",
    "    return np.sum(x)"
   ]
  },
  {
   "cell_type": "markdown",
   "id": "a3811b9c",
   "metadata": {},
   "source": [
    "Given this, we will create a function that returns the highest fitness value of the fittest individual(s)."
   ]
  },
  {
   "cell_type": "code",
   "execution_count": 781,
   "id": "046b0c2c",
   "metadata": {},
   "outputs": [],
   "source": [
    "def fittest_solution(fitness_function: callable, generation) ->float:\n",
    "    '''This returns the highest fitness value of the whole generation.'''\n",
    "    return np.max([fitness_function(generation[i]) for i in range(generation.shape[0])])"
   ]
  },
  {
   "cell_type": "markdown",
   "id": "1a06427b",
   "metadata": {},
   "source": [
    "In the next step, we will define the mutation operator, i.e. here we will implement a bit-wise mutation."
   ]
  },
  {
   "cell_type": "code",
   "execution_count": 782,
   "id": "47e31df8",
   "metadata": {},
   "outputs": [],
   "source": [
    "#Define the mutation operator\n",
    "\n",
    "# First define the bit flipping operator\n",
    "\n",
    "def bit_flipping(x: list) -> list:\n",
    "    \n",
    "    '''\n",
    "    ToDo:\n",
    "        \n",
    "    Please write a code that flips the bit, i.e. changes a 1 to a 0 and vice versa.\n",
    "    '''\n",
    "    \n",
    "    if isinstance(x, (list or np.ndarray)):\n",
    "        print(x)\n",
    "        print(type(x))\n",
    "        if x == 1:\n",
    "            return 0\n",
    "        else:\n",
    "            return 1\n",
    "        \n",
    "    \n",
    "    else:\n",
    "        x_new = x.copy()\n",
    "        x = np.array(x)\n",
    "        if type(x) is list:\n",
    "            x_new = x.copy()\n",
    "            x = np.array(x)\n",
    "            for index, element in enumerate(x):\n",
    "                if element == 1:\n",
    "                    x_new[index] = 0\n",
    "                else:\n",
    "                    x_new[index] = 1\n",
    "        return np.array(x_new)\n",
    "\n",
    "\n",
    "\n",
    "def mutation_operator(mutation_function: callable, p_mutation: float, x: list) ->np.ndarray:\n",
    "    '''This function takes the mutation function and applies it \n",
    "    element-wise to the genes according to the mutation rate.'''\n",
    "    \n",
    "    return np.asarray([mutation_function(gene) if (np.random.uniform() <= p_mutation) else gene for gene in x])\n"
   ]
  },
  {
   "cell_type": "code",
   "execution_count": 783,
   "id": "f908d8ae",
   "metadata": {},
   "outputs": [
    {
     "name": "stdout",
     "output_type": "stream",
     "text": [
      "[1, 0, 1, 1, 0, 0, 0, 1, 0, 0]\n",
      "[1, 0, 1, 1, 0, 0, 0, 1, 0, 0]\n",
      "<class 'list'>\n",
      "1\n"
     ]
    }
   ],
   "source": [
    "original = [1, 0, 1, 1, 0, 0, 0, 1, 0, 0]\n",
    "print(original)\n",
    "mutated = bit_flipping(original)\n",
    "print(mutated)"
   ]
  },
  {
   "cell_type": "code",
   "execution_count": 784,
   "id": "31c62584",
   "metadata": {},
   "outputs": [],
   "source": [
    "# print('original')\n",
    "# print(np.array(population_test))\n",
    "# print('mutated')\n",
    "# print(mutation_operator(bit_flipping, 1, population_test))\n",
    "# print('are they the same?')\n",
    "# print(mutation_operator(bit_flipping, 1, population_test) == np.array(population_test))"
   ]
  },
  {
   "cell_type": "code",
   "execution_count": 785,
   "id": "e2518016",
   "metadata": {},
   "outputs": [],
   "source": [
    "def cross_over(parent_1: list, parent_2: list, p_crossover: float, p_uni:float = 0.5, uniform:bool=False) -> tuple:\n",
    "    '''This function applies crossover for the case of two parents.'''\n",
    "    \n",
    "    #Check if cross-over is applied\n",
    "    if p_crossover > np.random.uniform():\n",
    "        #Random uniform crossover\n",
    "        if uniform:  \n",
    "            child_1 = []\n",
    "            for gene in range(len(parent_1)):\n",
    "                if p_uni > np.random.uniform():\n",
    "                #Choose first parent\n",
    "                    child_1.append(parent_1[gene])\n",
    "                else:\n",
    "                    child_1.append(parent_2[gene])\n",
    "            \n",
    "            # The second child is used by using an inverse mapping, \n",
    "            # We use the bit-flipping function defined above.\n",
    "            child_2 = [bit_flipping(gene) for gene in child_1]\n",
    "                \n",
    "            return child_1, child_2\n",
    "        \n",
    "        #If no uniform crossover is selected, i.e. 1-point crossover is applied\n",
    "        else:\n",
    "            #We exclude the splitpoints in the beginning and the end\n",
    "            split_point = randint(1, len(parent_1)-1)\n",
    "            \n",
    "            #Now return perform the one-point crossover\n",
    "            child_1 = np.array([parent_1[gene] if gene <= split_point else parent_2[gene] \n",
    "                                for gene in range(len(parent_1))])\n",
    "            child_2 = np.array([parent_2[gene] if gene <= split_point else parent_1[gene] \n",
    "                                for gene in range(len(parent_1))])\n",
    "            \n",
    "            return child_1, child_2            \n",
    "    else:\n",
    "        #Just returns the original parents\n",
    "        return parent_1, parent_2\n",
    "        "
   ]
  },
  {
   "cell_type": "code",
   "execution_count": 786,
   "id": "bb563b47",
   "metadata": {},
   "outputs": [],
   "source": [
    "def selection_probabilities(generation, fitness_function: callable, sigma_scaling=False) -> list:\n",
    "    '''\n",
    "    Calculates the individual selection probabilities based on the fitness function. \n",
    "    Applies sigma-scaling if desired.\n",
    "    '''\n",
    "    \n",
    "    number_individuals = generation.shape[0]\n",
    "    total_fitness = np.sum([fitness_function(generation[i]) for i in range(number_individuals)]) \n",
    "    \n",
    "    if sigma_scaling == True:\n",
    "        \n",
    "        mean_fitness = total_fitness/number_individuals\n",
    "        std_fitness = np.std([fitness_function(generation[i]) for i in range(number_individuals)])\n",
    "        c = 2 #Constant\n",
    "        \n",
    "        fitness_sigma = [np.max(fitness_function(generation[i])-(mean_fitness-(c*std_fitness)),0) for i \n",
    "                          in range(number_individuals)]\n",
    "        \n",
    "        #Now we need to sum up the sigma-scaled fitnesses\n",
    "        total_fitness_sigma = np.sum(fitness_sigma)\n",
    "        selection_prob = [fitness_sigma[i]/total_fitness_sigma for i in range(number_individuals)]\n",
    "    else:\n",
    "        #Apply normal inverse scaling\n",
    "        selection_prob = [(fitness_function(generation[i])/total_fitness) for i in range(number_individuals)]\n",
    "    return selection_prob"
   ]
  },
  {
   "cell_type": "code",
   "execution_count": 787,
   "id": "8e20d361",
   "metadata": {},
   "outputs": [],
   "source": [
    "def cumulative_probability_distribution(selection_probability: list) -> list:\n",
    "    '''Calculates the cumulative probability distribution based on individual selection probabilities.'''\n",
    "    cum_prob_distribution = []\n",
    "    current_cum_prob_dis = 0\n",
    "    for i in range(len(selection_probability)):\n",
    "        current_cum_prob_dis += selection_probability[i]\n",
    "        cum_prob_distribution.append(current_cum_prob_dis)\n",
    "    return cum_prob_distribution"
   ]
  },
  {
   "cell_type": "code",
   "execution_count": 788,
   "id": "967b8fda",
   "metadata": {},
   "outputs": [],
   "source": [
    "def roulette_wheel_algorithm(cum_prob_distribution, number_of_parents = 2) -> list:\n",
    "    '''\n",
    "    Implements the roulette wheel algorithm as discussed in the \n",
    "    accompanying text book by Eiben and Smith (2015).\n",
    "    '''\n",
    "\n",
    "        \n",
    "    '''\n",
    "    ToDo:\n",
    "        \n",
    "    Please try to finish the implementation of the roulette_wheel_algorithm. \n",
    "    You will need the cum_prob_distribution function which is defined already above for you±\n",
    "    '''    \n",
    "    current_member = 1\n",
    "    mating_pool = []\n",
    "    while current_member <= number_of_parents:\n",
    "        r = rand()\n",
    "        i = 0\n",
    "        while cum_prob_distribution[i] < r:\n",
    "            i += 1\n",
    "        mating_pool.append(i)\n",
    "        current_member += 1\n",
    "    \n",
    "    return mating_pool    "
   ]
  },
  {
   "cell_type": "code",
   "execution_count": 789,
   "id": "77788d09",
   "metadata": {},
   "outputs": [
    {
     "name": "stdout",
     "output_type": "stream",
     "text": [
      "[4, 4]\n"
     ]
    }
   ],
   "source": [
    "test_cum_dist = [0, 0.1, 0.3, 0.6, 1.0]\n",
    "\n",
    "print(roulette_wheel_algorithm(test_cum_dist, 2))"
   ]
  },
  {
   "cell_type": "markdown",
   "id": "8635f947",
   "metadata": {},
   "source": [
    "## Run the simulation: SGA with Roulette Wheel Algorithm "
   ]
  },
  {
   "cell_type": "markdown",
   "id": "6f9c854b",
   "metadata": {},
   "source": [
    "Now having implemented this, we can finally run our first genetic algorithm to optimize the `one_max` function!"
   ]
  },
  {
   "cell_type": "code",
   "execution_count": 790,
   "id": "f12fcdf8",
   "metadata": {},
   "outputs": [
    {
     "name": "stdout",
     "output_type": "stream",
     "text": [
      "The current best solution in the initial generation is 31\n",
      "The current best population in generation 50 is 35\n",
      "The current best population in generation 100 is 35\n",
      "The current best population in generation 150 is 35\n",
      "The current best population in generation 200 is 35\n",
      "The current best population in generation 250 is 35\n",
      "The current best population in generation 300 is 35\n",
      "The current best population in generation 350 is 35\n",
      "The current best population in generation 400 is 35\n",
      "The current best population in generation 450 is 35\n",
      "The current best population in generation 500 is 35\n"
     ]
    }
   ],
   "source": [
    "#Define the hyperparameters, \n",
    "#following the recommendations presented in the textbook\n",
    "#Eiben, A.E., Smith, J.E., Introduction to Evolutionary Computing., Springer, 2015, 2nd edition, page 100\n",
    "\n",
    "#Define population size \n",
    "n_population = 20\n",
    "\n",
    "#Define length of the bitstring\n",
    "bit_length = 50\n",
    "\n",
    "#Define mutation rate\n",
    "p_mutation = 1/bit_length\n",
    "\n",
    "#Crossover probability\n",
    "p_crossover = 0.6\n",
    "\n",
    "#Number of iterations\n",
    "n_iter = 500\n",
    "\n",
    "#Number of children\n",
    "number_of_children = 2\n",
    "\n",
    "#Initiliaze the generation\n",
    "generation = init_population(n_population, bit_length)\n",
    "best = fittest_solution(one_max, generation)\n",
    "print('The current best solution in the initial generation is {0}'.format(best))\n",
    "\n",
    "for i in range(1, n_iter+1):\n",
    "    \n",
    "    new_generation = []\n",
    "    selection_prob_gen = selection_probabilities(generation, one_max)\n",
    "    cum_prob_distribution = cumulative_probability_distribution(selection_prob_gen)\n",
    "    #First step: Parent selection using roulette wheel algorithm\n",
    "\n",
    "    #We loop over the number of parent pairs we need to get\n",
    "    for j in range(int(n_population/number_of_children)):   \n",
    "        \n",
    "        mating_pool = roulette_wheel_algorithm(cum_prob_distribution)\n",
    "            \n",
    "        #Cross-over\n",
    "        child_1, child_2 = cross_over(generation[mating_pool[0]], generation[mating_pool[1]], p_crossover, uniform=False)\n",
    "            \n",
    "        #Mutation for each child\n",
    "        child_1 = mutation_operator(bit_flipping, p_mutation, child_1)\n",
    "        child_2 = mutation_operator(bit_flipping, p_mutation, child_2)\n",
    "            \n",
    "        #Survival selection is here generational, hence all children replace their parents\n",
    "        \n",
    "        new_generation.append(child_1.tolist())\n",
    "        new_generation.append(child_2.tolist())\n",
    "            \n",
    "    generation = np.asarray(new_generation)\n",
    "    best = fittest_solution(one_max, generation)\n",
    "    if i % 50 == 0:\n",
    "        print('The current best population in generation {0} is {1}'.format(i, best))\n",
    "        \n",
    "    #Include a condition that stops the experiment when the optimal solution is found.\n",
    "    if best == bit_length:\n",
    "        print('---'*30)\n",
    "        print('Done! The algorithm has found the optimal solution!')\n",
    "        print('The current best population in generation {0} is {1}'.format(i, best))\n",
    "        break\n",
    "    "
   ]
  },
  {
   "cell_type": "code",
   "execution_count": 791,
   "id": "dc5768a8",
   "metadata": {},
   "outputs": [
    {
     "name": "stdout",
     "output_type": "stream",
     "text": [
      "\n"
     ]
    }
   ],
   "source": [
    "print()"
   ]
  },
  {
   "cell_type": "markdown",
   "id": "354c71b0",
   "metadata": {},
   "source": [
    "As we can see, the SGA does not fully solve the problem. One way to tackle this is to implement tournament selection, given its simplicity and its power to control the selection pressure (with varying k)."
   ]
  },
  {
   "cell_type": "code",
   "execution_count": 792,
   "id": "10a9a2ed",
   "metadata": {},
   "outputs": [],
   "source": [
    "def tournament_selection(generation: list, fitness_function: callable, k: int) -> list:\n",
    "    '''\n",
    "    This implements the tournament selection. K random individual (with replacement) are \n",
    "    chosen and compete with each other. The index of the best individual is returned.\n",
    "    '''\n",
    "    \n",
    "    # #First step: Choose a random individual and score it\n",
    "    # number_individuals = generation.shape[0]\n",
    "    # current_winner = randint(0, number_individuals)\n",
    "    # #Get the score which is the one to beat!\n",
    "    # score = fitness_function(generation[current_winner])\n",
    "\n",
    "    # # random.choice(generation, size=k-1, replace=True)\n",
    "    # for candidates in range(k-1): #We already have one candidate, so we are left with k-1 to choose\n",
    "\n",
    "    #     current_candidate_index = randint(0, number_individuals)\n",
    "    #     current_candidate = generation[current_candidate_index]\n",
    "    #     candidate_score = fitness_function(current_candidate)\n",
    "\n",
    "    #     #Compare the score of the candidate with the score of the current winner\n",
    "    #     if candidate_score > score:\n",
    "    #         current_winner = current_candidate_index\n",
    "\n",
    "    #  First step: Choose a random individual and score it\n",
    "\n",
    "    number_individuals = generation.shape[0]\n",
    "    current_winner = randint(0, number_individuals)\n",
    "    #Get the score which is the one to beat!\n",
    "    score = fitness_function(generation[current_winner])\n",
    "\n",
    "    # random.choice(generation, size=k-1, replace=True)\n",
    "    for candidates in range(k-1): #We already have one candidate, so we are left with k-1 to choose\n",
    "\n",
    "        # current_candidate_index = randint(0, number_individuals)\n",
    "        current_candidate = generation[candidates]\n",
    "        candidate_score = fitness_function(current_candidate)\n",
    "\n",
    "        #Compare the score of the candidate with the score of the current winner\n",
    "        if candidate_score > score:\n",
    "            current_winner = candidates\n",
    "\n",
    "    return current_winner\n",
    "    "
   ]
  },
  {
   "cell_type": "markdown",
   "id": "feb730e1",
   "metadata": {},
   "source": [
    "## Run the simulation: SGA with tournament selection"
   ]
  },
  {
   "cell_type": "markdown",
   "id": "4f2e9947",
   "metadata": {},
   "source": [
    "Now we can re-run the experiment from above, this time using tournament selection instead of fitness proportional selection implement via roulette wheel algorithm."
   ]
  },
  {
   "cell_type": "code",
   "execution_count": 793,
   "id": "70ab8f6c",
   "metadata": {},
   "outputs": [
    {
     "name": "stdout",
     "output_type": "stream",
     "text": [
      "The current best solution in the initial generation is 31\n",
      "The current best population in generation 10 is 35\n",
      "The current best population in generation 20 is 35\n",
      "The current best population in generation 30 is 35\n",
      "The current best population in generation 40 is 35\n",
      "The current best population in generation 50 is 35\n",
      "The current best population in generation 60 is 35\n",
      "The current best population in generation 70 is 35\n",
      "The current best population in generation 80 is 35\n",
      "The current best population in generation 90 is 35\n",
      "The current best population in generation 100 is 35\n",
      "The current best population in generation 110 is 35\n",
      "The current best population in generation 120 is 35\n",
      "The current best population in generation 130 is 35\n",
      "The current best population in generation 140 is 35\n",
      "The current best population in generation 150 is 35\n",
      "The current best population in generation 160 is 35\n",
      "The current best population in generation 170 is 35\n",
      "The current best population in generation 180 is 35\n",
      "The current best population in generation 190 is 35\n",
      "The current best population in generation 200 is 35\n",
      "The current best population in generation 210 is 35\n",
      "The current best population in generation 220 is 35\n",
      "The current best population in generation 230 is 35\n",
      "The current best population in generation 240 is 35\n",
      "The current best population in generation 250 is 35\n",
      "The current best population in generation 260 is 35\n",
      "The current best population in generation 270 is 35\n",
      "The current best population in generation 280 is 35\n",
      "The current best population in generation 290 is 35\n",
      "The current best population in generation 300 is 35\n",
      "The current best population in generation 310 is 35\n",
      "The current best population in generation 320 is 35\n",
      "The current best population in generation 330 is 35\n",
      "The current best population in generation 340 is 35\n",
      "The current best population in generation 350 is 35\n",
      "The current best population in generation 360 is 35\n",
      "The current best population in generation 370 is 35\n",
      "The current best population in generation 380 is 35\n",
      "The current best population in generation 390 is 35\n",
      "The current best population in generation 400 is 35\n",
      "The current best population in generation 410 is 35\n",
      "The current best population in generation 420 is 35\n",
      "The current best population in generation 430 is 35\n",
      "The current best population in generation 440 is 35\n",
      "The current best population in generation 450 is 35\n",
      "The current best population in generation 460 is 35\n",
      "The current best population in generation 470 is 35\n",
      "The current best population in generation 480 is 35\n",
      "The current best population in generation 490 is 35\n",
      "The current best population in generation 500 is 35\n"
     ]
    }
   ],
   "source": [
    "#Now we can re-run the experiment from above, this time using tournament selection:\n",
    "\n",
    "#Define the hyperparameters, \n",
    "#following the recommendations presented in the textbook\n",
    "#Eiben, A.E., Smith, J.E., Introduction to Evolutionary Computing., Springer, 2015, 2nd edition, page 100\n",
    "\n",
    "#Define population size \n",
    "n_population = 20\n",
    "\n",
    "#Define length of the bitstring\n",
    "bit_length = 50\n",
    "\n",
    "#Define mutation rate\n",
    "p_mutation = 1/bit_length\n",
    "\n",
    "#Crossover probability\n",
    "p_crossover = 0.6\n",
    "\n",
    "#Number of iterations\n",
    "n_iter = 500\n",
    "\n",
    "number_of_children = 2\n",
    "\n",
    "#Tournament size\n",
    "k = 5\n",
    "\n",
    "#Initiliaze the generation\n",
    "generation = init_population(n_population, bit_length)\n",
    "best = fittest_solution(one_max, generation)\n",
    "print('The current best solution in the initial generation is {0}'.format(best))\n",
    "\n",
    "for i in range(1, n_iter+1):\n",
    "    \n",
    "    new_generation = []\n",
    "    selection_prob_gen = selection_probabilities(generation, one_max)\n",
    "    cum_prob_distribution = cumulative_probability_distribution(selection_prob_gen)\n",
    "    #First step: Parent selection using roulette wheel algorithm\n",
    "\n",
    "    #We loop over the number of parent pairs we need to get\n",
    "    for j in range(int(n_population/number_of_children)):\n",
    "        \n",
    "        mating_pool = []\n",
    "        for child in range(number_of_children):\n",
    "            \n",
    "            mate = tournament_selection(generation, one_max, k)\n",
    "            mating_pool.append(mate)\n",
    "            \n",
    "        #Cross-over\n",
    "        child_1, child_2 = cross_over(generation[mating_pool[0]], generation[mating_pool[1]], p_crossover, uniform=True)\n",
    "            \n",
    "        #Mutation for each child\n",
    "        child_1 = mutation_operator(bit_flipping, p_mutation, child_1)\n",
    "        child_2 = mutation_operator(bit_flipping, p_mutation, child_2)\n",
    "            \n",
    "        #Survival selection is here generational, hence all children replace their parents\n",
    "        \n",
    "        new_generation.append(child_1.tolist())\n",
    "        new_generation.append(child_2.tolist())\n",
    "            \n",
    "    generation = np.asarray(new_generation)\n",
    "    best = fittest_solution(one_max, generation)\n",
    "    if i % 10 == 0:\n",
    "        print('The current best population in generation {0} is {1}'.format(i, best))\n",
    "        \n",
    "    #Include a condition that stops when the optimal solution is found\n",
    "    if best == bit_length:\n",
    "        print('---'*20)\n",
    "        print('Done! The algorithm has found the optimal solution!')\n",
    "        print('The current best population in generation {0} is {1}'.format(i, best))\n",
    "        break\n",
    "        "
   ]
  },
  {
   "cell_type": "markdown",
   "id": "bb812b4b",
   "metadata": {},
   "source": [
    "As we can see, the tournament selection greatly improves the evolutionary algorithm for this particular problem!"
   ]
  }
 ],
 "metadata": {
  "interpreter": {
   "hash": "aee8b7b246df8f9039afb4144a1f6fd8d2ca17a180786b69acc140d282b71a49"
  },
  "kernelspec": {
   "display_name": "Python 3 (ipykernel)",
   "language": "python",
   "name": "python3"
  },
  "language_info": {
   "codemirror_mode": {
    "name": "ipython",
    "version": 3
   },
   "file_extension": ".py",
   "mimetype": "text/x-python",
   "name": "python",
   "nbconvert_exporter": "python",
   "pygments_lexer": "ipython3",
   "version": "3.11.5"
  }
 },
 "nbformat": 4,
 "nbformat_minor": 5
}
